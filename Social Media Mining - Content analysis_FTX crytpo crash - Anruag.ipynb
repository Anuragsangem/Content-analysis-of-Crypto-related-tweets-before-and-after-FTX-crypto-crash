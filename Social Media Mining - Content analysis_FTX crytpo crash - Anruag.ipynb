{
 "cells": [
  {
   "cell_type": "code",
   "execution_count": 150,
   "id": "c36350f0",
   "metadata": {},
   "outputs": [],
   "source": [
    "#Importing the requried libraries\n",
    "import pandas as pd\n",
    "import matplotlib.pyplot as plt"
   ]
  },
  {
   "cell_type": "code",
   "execution_count": 195,
   "id": "6cfe86c8",
   "metadata": {},
   "outputs": [],
   "source": [
    "#Load the data\n",
    "tweets_data = pd.read_excel(r'/Users/anuragsangem/Downloads/Tweets_Data_Paper1_SMM_SPR23.xlsx')\n",
    "    "
   ]
  },
  {
   "cell_type": "code",
   "execution_count": 196,
   "id": "4148cadc",
   "metadata": {},
   "outputs": [
    {
     "data": {
      "text/html": [
       "<div>\n",
       "<style scoped>\n",
       "    .dataframe tbody tr th:only-of-type {\n",
       "        vertical-align: middle;\n",
       "    }\n",
       "\n",
       "    .dataframe tbody tr th {\n",
       "        vertical-align: top;\n",
       "    }\n",
       "\n",
       "    .dataframe thead th {\n",
       "        text-align: right;\n",
       "    }\n",
       "</style>\n",
       "<table border=\"1\" class=\"dataframe\">\n",
       "  <thead>\n",
       "    <tr style=\"text-align: right;\">\n",
       "      <th></th>\n",
       "      <th>S.No</th>\n",
       "      <th>Tweet</th>\n",
       "      <th>Timeline : Before/After the crash</th>\n",
       "      <th>Anger</th>\n",
       "      <th>Personal Experience</th>\n",
       "      <th>Confident / Happy</th>\n",
       "      <th>Fear/Sad</th>\n",
       "      <th>Junk/Spam – not related to the topic of my concern</th>\n",
       "      <th>Link</th>\n",
       "      <th>Month</th>\n",
       "    </tr>\n",
       "  </thead>\n",
       "  <tbody>\n",
       "    <tr>\n",
       "      <th>0</th>\n",
       "      <td>1</td>\n",
       "      <td>Which #Crypto are you BULLISH ON this weekend ...</td>\n",
       "      <td>Before</td>\n",
       "      <td>NaN</td>\n",
       "      <td>NaN</td>\n",
       "      <td>1.0</td>\n",
       "      <td>NaN</td>\n",
       "      <td>NaN</td>\n",
       "      <td>https://twitter.com/cryptoworld202/status/1627...</td>\n",
       "      <td>Jul</td>\n",
       "    </tr>\n",
       "    <tr>\n",
       "      <th>1</th>\n",
       "      <td>2</td>\n",
       "      <td>I’m searching the next potential #100x Crypto ...</td>\n",
       "      <td>Before</td>\n",
       "      <td>NaN</td>\n",
       "      <td>NaN</td>\n",
       "      <td>1.0</td>\n",
       "      <td>NaN</td>\n",
       "      <td>NaN</td>\n",
       "      <td>https://twitter.com/cryptoworld202/status/1626...</td>\n",
       "      <td>Jul</td>\n",
       "    </tr>\n",
       "    <tr>\n",
       "      <th>2</th>\n",
       "      <td>3</td>\n",
       "      <td>Any #Crypto / #token worth buying today??</td>\n",
       "      <td>Before</td>\n",
       "      <td>NaN</td>\n",
       "      <td>NaN</td>\n",
       "      <td>NaN</td>\n",
       "      <td>1.0</td>\n",
       "      <td>NaN</td>\n",
       "      <td>https://twitter.com/cryptoworld202/status/1627...</td>\n",
       "      <td>NaN</td>\n",
       "    </tr>\n",
       "    <tr>\n",
       "      <th>3</th>\n",
       "      <td>4</td>\n",
       "      <td>I have $10,000 to invest Which #cryptocurrency...</td>\n",
       "      <td>Before</td>\n",
       "      <td>NaN</td>\n",
       "      <td>NaN</td>\n",
       "      <td>1.0</td>\n",
       "      <td>NaN</td>\n",
       "      <td>NaN</td>\n",
       "      <td>https://twitter.com/TheDustyBC/status/16243853...</td>\n",
       "      <td>Jul</td>\n",
       "    </tr>\n",
       "    <tr>\n",
       "      <th>4</th>\n",
       "      <td>5</td>\n",
       "      <td>BabyDoge continues to trend on #Binance the wo...</td>\n",
       "      <td>Before</td>\n",
       "      <td>NaN</td>\n",
       "      <td>NaN</td>\n",
       "      <td>1.0</td>\n",
       "      <td>NaN</td>\n",
       "      <td>NaN</td>\n",
       "      <td>https://twitter.com/BabyDogeCoin/status/162548...</td>\n",
       "      <td>Jul</td>\n",
       "    </tr>\n",
       "  </tbody>\n",
       "</table>\n",
       "</div>"
      ],
      "text/plain": [
       "   S.No                                              Tweet  \\\n",
       "0     1  Which #Crypto are you BULLISH ON this weekend ...   \n",
       "1     2  I’m searching the next potential #100x Crypto ...   \n",
       "2     3          Any #Crypto / #token worth buying today??   \n",
       "3     4  I have $10,000 to invest Which #cryptocurrency...   \n",
       "4     5  BabyDoge continues to trend on #Binance the wo...   \n",
       "\n",
       "  Timeline : Before/After the crash  Anger  Personal Experience  \\\n",
       "0                            Before    NaN                  NaN   \n",
       "1                            Before    NaN                  NaN   \n",
       "2                            Before    NaN                  NaN   \n",
       "3                            Before    NaN                  NaN   \n",
       "4                            Before    NaN                  NaN   \n",
       "\n",
       "   Confident / Happy  Fear/Sad  \\\n",
       "0                1.0       NaN   \n",
       "1                1.0       NaN   \n",
       "2                NaN       1.0   \n",
       "3                1.0       NaN   \n",
       "4                1.0       NaN   \n",
       "\n",
       "   Junk/Spam – not related to the topic of my concern  \\\n",
       "0                                                NaN    \n",
       "1                                                NaN    \n",
       "2                                                NaN    \n",
       "3                                                NaN    \n",
       "4                                                NaN    \n",
       "\n",
       "                                                Link Month  \n",
       "0  https://twitter.com/cryptoworld202/status/1627...   Jul  \n",
       "1  https://twitter.com/cryptoworld202/status/1626...   Jul  \n",
       "2  https://twitter.com/cryptoworld202/status/1627...   NaN  \n",
       "3  https://twitter.com/TheDustyBC/status/16243853...   Jul  \n",
       "4  https://twitter.com/BabyDogeCoin/status/162548...   Jul  "
      ]
     },
     "execution_count": 196,
     "metadata": {},
     "output_type": "execute_result"
    }
   ],
   "source": [
    "tweets_data.head()"
   ]
  },
  {
   "cell_type": "code",
   "execution_count": 197,
   "id": "bb2a15ba",
   "metadata": {},
   "outputs": [],
   "source": [
    "#Data preprocessing\n",
    "tweets_data.rename(columns={\"Junk/Spam – not related to the topic of my concern\":\"Junk/Spam\"} , inplace=True)\n"
   ]
  },
  {
   "cell_type": "code",
   "execution_count": 198,
   "id": "9debf1b4",
   "metadata": {},
   "outputs": [],
   "source": [
    "#Filling the null values with 0\n",
    "tweets_data=tweets_data.fillna(0)"
   ]
  },
  {
   "cell_type": "code",
   "execution_count": 199,
   "id": "4fccc13f",
   "metadata": {},
   "outputs": [
    {
     "data": {
      "text/plain": [
       "Index(['S.No', 'Tweet', 'Timeline : Before/After the crash', 'Anger',\n",
       "       'Personal Experience', 'Confident / Happy', 'Fear/Sad', 'Junk/Spam',\n",
       "       'Link', 'Month'],\n",
       "      dtype='object')"
      ]
     },
     "execution_count": 199,
     "metadata": {},
     "output_type": "execute_result"
    }
   ],
   "source": [
    "tweets_data.columns"
   ]
  },
  {
   "cell_type": "code",
   "execution_count": 200,
   "id": "1d16e14e",
   "metadata": {},
   "outputs": [],
   "source": [
    "columns=['Anger','Personal Experience', 'Confident / Happy', 'Fear/Sad','Junk/Spam']"
   ]
  },
  {
   "cell_type": "code",
   "execution_count": 139,
   "id": "a9a5a663",
   "metadata": {},
   "outputs": [],
   "source": [
    "#Converting the counts to numerical data\n",
    "for col in columns:\n",
    "    tweets_data[col]=tweets_data[col].astype(int)\n",
    "    "
   ]
  },
  {
   "cell_type": "code",
   "execution_count": 140,
   "id": "2188b688",
   "metadata": {},
   "outputs": [],
   "source": [
    "counts_before_crash_df = pd.DataFrame()\n",
    "counts_after_crash_df = pd.DataFrame()"
   ]
  },
  {
   "cell_type": "code",
   "execution_count": 141,
   "id": "addb0eb3",
   "metadata": {},
   "outputs": [],
   "source": [
    "#Creating two dataframes to store the before and after the FTX crash information\n",
    "counts_before_crash_df=tweets_data[tweets_data['Timeline : Before/After the crash']== 'Before'][columns].sum()\n",
    "counts_after_crash_df=tweets_data[tweets_data['Timeline : Before/After the crash']== 'After'][columns].sum()\n",
    "    "
   ]
  },
  {
   "cell_type": "code",
   "execution_count": 142,
   "id": "35f2e1b1",
   "metadata": {},
   "outputs": [
    {
     "data": {
      "text/plain": [
       "Anger                   1\n",
       "Personal Experience     8\n",
       "Confident / Happy      19\n",
       "Fear/Sad                7\n",
       "Junk/Spam               2\n",
       "dtype: int64"
      ]
     },
     "execution_count": 142,
     "metadata": {},
     "output_type": "execute_result"
    }
   ],
   "source": [
    "counts_before_crash_df"
   ]
  },
  {
   "cell_type": "code",
   "execution_count": 143,
   "id": "68d045d6",
   "metadata": {},
   "outputs": [
    {
     "data": {
      "text/plain": [
       "Anger                  20\n",
       "Personal Experience    15\n",
       "Confident / Happy       6\n",
       "Fear/Sad               12\n",
       "Junk/Spam               0\n",
       "dtype: int64"
      ]
     },
     "execution_count": 143,
     "metadata": {},
     "output_type": "execute_result"
    }
   ],
   "source": [
    "counts_after_crash_df"
   ]
  },
  {
   "cell_type": "code",
   "execution_count": 156,
   "id": "f3d78908",
   "metadata": {},
   "outputs": [
    {
     "data": {
      "image/png": "[encoded data removed]",
      "text/plain": [
       "<Figure size 432x288 with 1 Axes>"
      ]
     },
     "metadata": {
      "needs_background": "light"
     },
     "output_type": "display_data"
    }
   ],
   "source": [
    "#plotting\n",
    "ax=counts_before_crash_df.plot.barh(x='lab', y='val')\n",
    "ax.set_title('Sentiment before FTX crash')\n",
    "plt.show()"
   ]
  },
  {
   "cell_type": "code",
   "execution_count": 157,
   "id": "2fe2518d",
   "metadata": {},
   "outputs": [
    {
     "data": {
      "image/png": "[encoded data removed]",
      "text/plain": [
       "<Figure size 432x288 with 1 Axes>"
      ]
     },
     "metadata": {
      "needs_background": "light"
     },
     "output_type": "display_data"
    }
   ],
   "source": [
    "ax2=counts_after_crash_df.plot.barh(x='lab', y='val')\n",
    "ax2.set_title('Sentiment after FTX crash')\n",
    "plt.show()"
   ]
  },
  {
   "cell_type": "code",
   "execution_count": 235,
   "id": "f810b82a",
   "metadata": {},
   "outputs": [],
   "source": [
    "tweets_data['Month']\n",
    "df2 = pd.DataFrame(tweets_data.groupby(['Month','Confident / Happy'])['Confident / Happy'].count())\n"
   ]
  },
  {
   "cell_type": "code",
   "execution_count": 276,
   "id": "d6077e99",
   "metadata": {},
   "outputs": [],
   "source": [
    "#trendline analysis of the data before the crash\n",
    "\n",
    "months = [\"Jan\", \"Feb\", \"Mar\", \"Apr\", \"May\", \"Jun\", \n",
    "          \"Jul\", \"Aug\", \"Sep\", \"Oct\", \"Nov\", \"Dec\"]\n",
    "\n",
    "df2.sort_values('Month', key = lambda x : pd.Categorical(x, categories=months, ordered=True))"
   ]
  },
  {
   "cell_type": "code",
   "execution_count": 245,
   "id": "5aac5ce8",
   "metadata": {},
   "outputs": [
    {
     "data": {
      "text/html": [
       "<div>\n",
       "<style scoped>\n",
       "    .dataframe tbody tr th:only-of-type {\n",
       "        vertical-align: middle;\n",
       "    }\n",
       "\n",
       "    .dataframe tbody tr th {\n",
       "        vertical-align: top;\n",
       "    }\n",
       "\n",
       "    .dataframe thead th {\n",
       "        text-align: right;\n",
       "    }\n",
       "</style>\n",
       "<table border=\"1\" class=\"dataframe\">\n",
       "  <thead>\n",
       "    <tr style=\"text-align: right;\">\n",
       "      <th></th>\n",
       "      <th></th>\n",
       "      <th>Confident / Happy</th>\n",
       "    </tr>\n",
       "    <tr>\n",
       "      <th>Month</th>\n",
       "      <th>Confident / Happy</th>\n",
       "      <th></th>\n",
       "    </tr>\n",
       "  </thead>\n",
       "  <tbody>\n",
       "    <tr>\n",
       "      <th>Aug</th>\n",
       "      <th>1.0</th>\n",
       "      <td>4</td>\n",
       "    </tr>\n",
       "    <tr>\n",
       "      <th>Jul</th>\n",
       "      <th>1.0</th>\n",
       "      <td>8</td>\n",
       "    </tr>\n",
       "    <tr>\n",
       "      <th>Oct</th>\n",
       "      <th>1.0</th>\n",
       "      <td>2</td>\n",
       "    </tr>\n",
       "    <tr>\n",
       "      <th>Sep</th>\n",
       "      <th>1.0</th>\n",
       "      <td>5</td>\n",
       "    </tr>\n",
       "  </tbody>\n",
       "</table>\n",
       "</div>"
      ],
      "text/plain": [
       "                         Confident / Happy\n",
       "Month Confident / Happy                   \n",
       "Aug   1.0                                4\n",
       "Jul   1.0                                8\n",
       "Oct   1.0                                2\n",
       "Sep   1.0                                5"
      ]
     },
     "execution_count": 245,
     "metadata": {},
     "output_type": "execute_result"
    }
   ],
   "source": [
    "df2"
   ]
  },
  {
   "cell_type": "code",
   "execution_count": 287,
   "id": "b27f54fa",
   "metadata": {},
   "outputs": [
    {
     "data": {
      "image/png": "[encoded data removed]",
      "text/plain": [
       "<Figure size 432x288 with 1 Axes>"
      ]
     },
     "metadata": {
      "needs_background": "light"
     },
     "output_type": "display_data"
    }
   ],
   "source": [
    "ax=df2.plot(x='Month' , grid =True)\n",
    "ax.set_title(\"Trendline of positive sentiment tweets from July to Oct\")\n",
    "plt.show()"
   ]
  },
  {
   "cell_type": "code",
   "execution_count": null,
   "id": "43a48d4b",
   "metadata": {},
   "outputs": [],
   "source": []
  }
 ],
 "metadata": {
  "kernelspec": {
   "display_name": "Python 3 (ipykernel)",
   "language": "python",
   "name": "python3"
  },
  "language_info": {
   "codemirror_mode": {
    "name": "ipython",
    "version": 3
   },
   "file_extension": ".py",
   "mimetype": "text/x-python",
   "name": "python",
   "nbconvert_exporter": "python",
   "pygments_lexer": "ipython3",
   "version": "3.9.12"
  }
 },
 "nbformat": 4,
 "nbformat_minor": 5
}
